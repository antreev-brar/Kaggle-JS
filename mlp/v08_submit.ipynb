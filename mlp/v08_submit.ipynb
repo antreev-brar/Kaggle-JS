{
 "cells": [
  {
   "cell_type": "code",
   "execution_count": 1,
   "metadata": {},
   "outputs": [],
   "source": [
    "import os\n",
    "import time\n",
    "import pickle\n",
    "import random\n",
    "import numpy as np\n",
    "import pandas as pd\n",
    "from tqdm import tqdm\n",
    "from sklearn.metrics import log_loss, roc_auc_score\n",
    "\n",
    "import torch\n",
    "import torch.nn as nn\n",
    "from torch.autograd import Variable\n",
    "from torch.utils.data import DataLoader\n",
    "from torch.nn import CrossEntropyLoss, MSELoss\n",
    "from torch.nn.modules.loss import _WeightedLoss\n",
    "import torch.nn.functional as F\n",
    "\n",
    "import sys\n",
    "sys.path.insert(0, '../data/')\n",
    "import janestreet\n",
    "\n",
    "pd.set_option('display.max_columns', 100)\n",
    "pd.set_option('display.max_rows', 100)\n",
    "\n",
    "CACHE_PATH = './v08_pytorch_benchmark/'\n",
    "NFOLDS = 5"
   ]
  },
  {
   "cell_type": "code",
   "execution_count": 3,
   "metadata": {},
   "outputs": [],
   "source": [
    "feat_cols = [f'feature_{i}' for i in range(130)]\n",
    "target_cols = ['action', 'action_1', 'action_2', 'action_3', 'action_4']\n",
    "all_feat_cols = feat_cols.copy()\n",
    "all_feat_cols.extend(['cross_41_42_43', 'cross_1_2'])\n",
    "f_mean = np.load(f'{CACHE_PATH}/f_mean_online.npy')"
   ]
  },
  {
   "cell_type": "markdown",
   "metadata": {},
   "source": [
    "# Prediction"
   ]
  },
  {
   "cell_type": "code",
   "execution_count": 4,
   "metadata": {},
   "outputs": [],
   "source": [
    "class MLPModel(nn.Module):\n",
    "    \n",
    "    # training parameters\n",
    "    epochs = 200\n",
    "    label_smoothing = 1e-2\n",
    "    learning_rate = 1e-3\n",
    "    \n",
    "    # model parameters\n",
    "    hidden_units = [160, 160, 160]\n",
    "    dropout_rates = [0.2, 0.2, 0.2, 0.2]\n",
    "    num_columns = len(all_feat_cols)\n",
    "    num_labels = len(target_cols)\n",
    "    units = [num_columns] + hidden_units + [num_labels]\n",
    "    \n",
    "    def __init__(self):\n",
    "        super(MLPModel, self).__init__()\n",
    "        self.batch_norm = nn.ModuleList()\n",
    "        self.dropout = nn.ModuleList()\n",
    "        self.dense = nn.ModuleList()\n",
    "        \n",
    "        for i in range(len(self.units) - 1):\n",
    "            self.batch_norm.append(nn.BatchNorm1d(self.units[i]))\n",
    "            self.dropout.append(nn.Dropout(self.dropout_rates[i]))\n",
    "            self.dense.append(nn.Linear(self.units[i], self.units[i + 1]))\n",
    "        \n",
    "        self.activation = nn.SiLU()\n",
    "        \n",
    "    def forward(self, x):\n",
    "        for i in range(len(self.units) - 1):\n",
    "            x = self.batch_norm[i](x)\n",
    "            if i != 0:\n",
    "                x = self.activation(x)\n",
    "            x = self.dropout[i](x)\n",
    "            x = self.dense[i](x)\n",
    "        # no sigmoid\n",
    "            \n",
    "        return x"
   ]
  },
  {
   "cell_type": "code",
   "execution_count": 5,
   "metadata": {},
   "outputs": [],
   "source": [
    "model_list = []\n",
    "for _fold in range(NFOLDS):\n",
    "    model = MLPModel()\n",
    "    model_weights = f\"{CACHE_PATH}/online_model{_fold}.pth\"\n",
    "    model.load_state_dict(torch.load(model_weights))\n",
    "    model.eval()\n",
    "    model_list.append(model)"
   ]
  },
  {
   "cell_type": "code",
   "execution_count": 6,
   "metadata": {},
   "outputs": [
    {
     "name": "stderr",
     "output_type": "stream",
     "text": [
      "15219it [01:58, 128.15it/s]\n"
     ]
    }
   ],
   "source": [
    "env = janestreet.make_env()\n",
    "env_iter = env.iter_test()\n",
    "\n",
    "device = torch.device(\"cpu\")\n",
    "\n",
    "for (test_df, pred_df) in tqdm(env_iter):\n",
    "    if test_df['weight'].item() > 0:\n",
    "        x_tt = test_df.loc[:, feat_cols].values\n",
    "        if np.isnan(x_tt.sum()):\n",
    "            x_tt = np.nan_to_num(x_tt) + np.isnan(x_tt) * f_mean\n",
    "\n",
    "        cross_41_42_43 = x_tt[:, 41] + x_tt[:, 42] + x_tt[:, 43]\n",
    "        cross_1_2 = x_tt[:, 1] / (x_tt[:, 2] + 1e-5)\n",
    "        feature_inp = np.concatenate((\n",
    "            x_tt,\n",
    "            np.array(cross_41_42_43).reshape(x_tt.shape[0], 1),\n",
    "            np.array(cross_1_2).reshape(x_tt.shape[0], 1),\n",
    "        ), axis=1)\n",
    "\n",
    "        # torch_pred\n",
    "        torch_pred = np.zeros((1, len(target_cols)))\n",
    "        for model in model_list:\n",
    "            torch_pred += model(torch.tensor(feature_inp, dtype=torch.float).to(device)).sigmoid().detach().cpu().numpy() / NFOLDS\n",
    "        torch_pred = np.median(torch_pred)\n",
    "\n",
    "        # tf_pred\n",
    "        #tf_pred = np.median(np.mean([model(x_tt, training = False).numpy() for model in tf_models],axis=0))\n",
    "\n",
    "        # avg\n",
    "        #pred = torch_pred * 0.5 + tf_pred * 0.5\n",
    "        pred = torch_pred\n",
    "\n",
    "        pred_df.action = np.where(pred >= 0.5, 1, 0).astype(int)\n",
    "    else:\n",
    "        pred_df.action = 0\n",
    "    env.predict(pred_df)"
   ]
  },
  {
   "cell_type": "code",
   "execution_count": null,
   "metadata": {},
   "outputs": [],
   "source": []
  }
 ],
 "metadata": {
  "kernelspec": {
   "display_name": "Python 3",
   "language": "python",
   "name": "python3"
  },
  "language_info": {
   "codemirror_mode": {
    "name": "ipython",
    "version": 3
   },
   "file_extension": ".py",
   "mimetype": "text/x-python",
   "name": "python",
   "nbconvert_exporter": "python",
   "pygments_lexer": "ipython3",
   "version": "3.7.9"
  }
 },
 "nbformat": 4,
 "nbformat_minor": 4
}
